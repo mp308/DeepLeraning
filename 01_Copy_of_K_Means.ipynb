{
  "nbformat": 4,
  "nbformat_minor": 0,
  "metadata": {
    "colab": {
      "provenance": [],
      "include_colab_link": true
    },
    "kernelspec": {
      "name": "python3",
      "display_name": "Python 3"
    },
    "language_info": {
      "name": "python"
    }
  },
  "cells": [
    {
      "cell_type": "markdown",
      "metadata": {
        "id": "view-in-github",
        "colab_type": "text"
      },
      "source": [
        "<a href=\"https://colab.research.google.com/github/mp308/DeepLeraning/blob/main/01_Copy_of_K_Means.ipynb\" target=\"_parent\"><img src=\"https://colab.research.google.com/assets/colab-badge.svg\" alt=\"Open In Colab\"/></a>"
      ]
    },
    {
      "cell_type": "code",
      "execution_count": null,
      "metadata": {
        "colab": {
          "base_uri": "https://localhost:8080/"
        },
        "id": "OTOtLZzJUUpa",
        "outputId": "0b0c3c41-d955-4182-dcfa-9e167438a732"
      },
      "outputs": [
        {
          "output_type": "execute_result",
          "data": {
            "text/plain": [
              "array([0, 1, 1, 1, 0, 0, 1, 1, 0, 1], dtype=int32)"
            ]
          },
          "metadata": {},
          "execution_count": 1
        }
      ],
      "source": [
        "from sklearn.cluster import KMeans\n",
        "import numpy as np\n",
        "#X = np.array([[1, 2], [1, 4], [1, 0],[10, 2], [10, 4], [10, 0]]) #แก้บรรทัดนี้\n",
        "X = np.array([[101, 10], [1, 1], [2, 3],[3, 5], [105, 12], [107, 9],[10,30],[11,27],[99,15],[13,32]]) #แก้บรรทัดนี้\n",
        "kmeans = KMeans(n_clusters=2, random_state=0, n_init=\"auto\").fit(X)#แก้ n_clusters (K) บรรทัดนี้\n",
        "kmeans.labels_"
      ]
    },
    {
      "cell_type": "code",
      "source": [
        "import matplotlib.pyplot as plt\n",
        "plt.rcParams['figure.figsize'] = (9,9) # Make the figures a bit bigger\n",
        "plt.scatter(X[:,0] , X[:,1])"
      ],
      "metadata": {
        "colab": {
          "base_uri": "https://localhost:8080/",
          "height": 554
        },
        "id": "cBn-LHFNUeKn",
        "outputId": "a98632aa-c344-4e64-a7b6-933ea0baaf69"
      },
      "execution_count": null,
      "outputs": [
        {
          "output_type": "execute_result",
          "data": {
            "text/plain": [
              "<matplotlib.collections.PathCollection at 0x7ff52b497dc0>"
            ]
          },
          "metadata": {},
          "execution_count": 2
        },
        {
          "output_type": "display_data",
          "data": {
            "text/plain": [
              "<Figure size 648x648 with 1 Axes>"
            ],
            "image/png": "[encoded data removed]"
          },
          "metadata": {
            "needs_background": "light"
          }
        }
      ]
    }
  ]
}