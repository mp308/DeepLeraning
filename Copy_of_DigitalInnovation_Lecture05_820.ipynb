{
  "cells": [
    {
      "cell_type": "markdown",
      "metadata": {
        "id": "view-in-github",
        "colab_type": "text"
      },
      "source": [
        "<a href=\"https://colab.research.google.com/github/mp308/DeepLeraning/blob/main/Copy_of_DigitalInnovation_Lecture05_820.ipynb\" target=\"_parent\"><img src=\"https://colab.research.google.com/assets/colab-badge.svg\" alt=\"Open In Colab\"/></a>"
      ]
    },
    {
      "cell_type": "code",
      "execution_count": null,
      "metadata": {
        "id": "ZlHqikomfyK4"
      },
      "outputs": [],
      "source": [
        "from sklearn.metrics import f1_score\n",
        "from sklearn.metrics import accuracy_score\n",
        "from keras.applications.vgg16 import VGG16\n",
        "from os import listdir\n",
        "from os.path import isfile, isdir, join\n",
        "from keras.applications.vgg16 import preprocess_input\n",
        "from PIL import Image\n",
        "from keras.preprocessing import image\n",
        "import numpy as np\n",
        "import random\n",
        "import h5py\n",
        "from keras import models\n",
        "from keras import layers\n",
        "from keras import optimizers\n",
        "from keras import regularizers\n",
        "import keras\n",
        "from keras.models import Sequential\n",
        "from keras.layers import Dense, Activation\n",
        "from keras.models import model_from_json\n",
        "from keras.models import Model\n",
        "from tensorflow.keras.utils import to_categorical\n",
        "from tensorflow.keras.optimizers import SGD\n",
        "from tqdm import tqdm\n",
        "from keras.models import Model\n",
        "from keras.layers import Flatten\n",
        "from keras import backend as K\n",
        "import tensorflow as tf\n",
        "import os\n",
        "from keras.regularizers import l1\n",
        "from keras.layers import Dropout\n",
        "from tensorflow.keras import optimizers"
      ]
    },
    {
      "cell_type": "code",
      "source": [
        "from google.colab import drive\n",
        "\n",
        "drive.mount('/content/drive')"
      ],
      "metadata": {
        "colab": {
          "base_uri": "https://localhost:8080/"
        },
        "id": "pSs4fYyBV6u6",
        "outputId": "efc1e778-6a52-4fb3-ff37-da20b099bbae"
      },
      "execution_count": null,
      "outputs": [
        {
          "output_type": "stream",
          "name": "stdout",
          "text": [
            "Mounted at /content/drive\n"
          ]
        }
      ]
    },
    {
      "cell_type": "code",
      "execution_count": null,
      "metadata": {
        "id": "PLy3pthUS0D2"
      },
      "outputs": [],
      "source": [
        "import os\n",
        "import zipfile\n",
        "\n",
        "local_zip = 'drive/MyDrive/digital/dataset.zip'\n",
        "zip_ref = zipfile.ZipFile(local_zip, 'r')\n",
        "zip_ref.extractall('.')\n",
        "zip_ref.close()"
      ]
    },
    {
      "cell_type": "code",
      "source": [
        "#import os\n",
        "#import zipfile\n",
        "\n",
        "#local_zip = 'dataset.zip'\n",
        "#zip_ref = zipfile.ZipFile(local_zip, 'r')\n",
        "#zip_ref.extractall('.')\n",
        "#zip_ref.close()"
      ],
      "metadata": {
        "id": "SY6zFm-9ysdM"
      },
      "execution_count": null,
      "outputs": []
    },
    {
      "cell_type": "code",
      "execution_count": null,
      "metadata": {
        "id": "br64noPkf6cv"
      },
      "outputs": [],
      "source": [
        "gdrive = 'dataset'\n",
        "#gdrive = './drive/MyDrive/NSC/specialproblem/plant'\n",
        "train_folder = gdrive + '/train'\n",
        "test_folder = gdrive +'/test'\n",
        "preprocessing_folder = gdrive\n",
        "model_folder = gdrive\n",
        "x_train_path = preprocessing_folder + '/x_train.h5'\n",
        "y_train_path = preprocessing_folder + '/y_train.h5'\n",
        "x_test_path = preprocessing_folder + '/x_test.h5'\n",
        "y_test_path = preprocessing_folder + '/y_test.h5'\n",
        "model_save_file = model_folder + '/model.json'\n",
        "weight_save_file = model_folder + \"/model.h5\"\n",
        "train_epoch = 20"
      ]
    },
    {
      "cell_type": "code",
      "execution_count": null,
      "metadata": {
        "id": "UctHJaRFiFUm",
        "colab": {
          "base_uri": "https://localhost:8080/"
        },
        "outputId": "20b0af0f-4290-4762-cb31-6a4aacbd128d"
      },
      "outputs": [
        {
          "output_type": "stream",
          "name": "stdout",
          "text": [
            "Downloading data from https://storage.googleapis.com/tensorflow/keras-applications/vgg16/vgg16_weights_tf_dim_ordering_tf_kernels_notop.h5\n",
            "58889256/58889256 [==============================] - 0s 0us/step\n"
          ]
        }
      ],
      "source": [
        "img_feature_extraction= VGG16(weights='imagenet', include_top=False)"
      ]
    },
    {
      "cell_type": "code",
      "execution_count": null,
      "metadata": {
        "id": "HDPhXti3iPAh",
        "colab": {
          "base_uri": "https://localhost:8080/"
        },
        "outputId": "3f062bf6-c902-47e7-c3f8-13418e782d80"
      },
      "outputs": [
        {
          "output_type": "stream",
          "name": "stdout",
          "text": [
            "Model: \"vgg16\"\n",
            "_________________________________________________________________\n",
            " Layer (type)                Output Shape              Param #   \n",
            "=================================================================\n",
            " input_1 (InputLayer)        [(None, None, None, 3)]   0         \n",
            "                                                                 \n",
            " block1_conv1 (Conv2D)       (None, None, None, 64)    1792      \n",
            "                                                                 \n",
            " block1_conv2 (Conv2D)       (None, None, None, 64)    36928     \n",
            "                                                                 \n",
            " block1_pool (MaxPooling2D)  (None, None, None, 64)    0         \n",
            "                                                                 \n",
            " block2_conv1 (Conv2D)       (None, None, None, 128)   73856     \n",
            "                                                                 \n",
            " block2_conv2 (Conv2D)       (None, None, None, 128)   147584    \n",
            "                                                                 \n",
            " block2_pool (MaxPooling2D)  (None, None, None, 128)   0         \n",
            "                                                                 \n",
            " block3_conv1 (Conv2D)       (None, None, None, 256)   295168    \n",
            "                                                                 \n",
            " block3_conv2 (Conv2D)       (None, None, None, 256)   590080    \n",
            "                                                                 \n",
            " block3_conv3 (Conv2D)       (None, None, None, 256)   590080    \n",
            "                                                                 \n",
            " block3_pool (MaxPooling2D)  (None, None, None, 256)   0         \n",
            "                                                                 \n",
            " block4_conv1 (Conv2D)       (None, None, None, 512)   1180160   \n",
            "                                                                 \n",
            " block4_conv2 (Conv2D)       (None, None, None, 512)   2359808   \n",
            "                                                                 \n",
            " block4_conv3 (Conv2D)       (None, None, None, 512)   2359808   \n",
            "                                                                 \n",
            " block4_pool (MaxPooling2D)  (None, None, None, 512)   0         \n",
            "                                                                 \n",
            " block5_conv1 (Conv2D)       (None, None, None, 512)   2359808   \n",
            "                                                                 \n",
            " block5_conv2 (Conv2D)       (None, None, None, 512)   2359808   \n",
            "                                                                 \n",
            " block5_conv3 (Conv2D)       (None, None, None, 512)   2359808   \n",
            "                                                                 \n",
            " block5_pool (MaxPooling2D)  (None, None, None, 512)   0         \n",
            "                                                                 \n",
            "=================================================================\n",
            "Total params: 14,714,688\n",
            "Trainable params: 14,714,688\n",
            "Non-trainable params: 0\n",
            "_________________________________________________________________\n",
            "None\n"
          ]
        }
      ],
      "source": [
        "print(img_feature_extraction.summary())"
      ]
    },
    {
      "cell_type": "code",
      "execution_count": null,
      "metadata": {
        "id": "Fny38zibiRdg"
      },
      "outputs": [],
      "source": [
        "def files_in_folder(input_folder):\n",
        "    l = []\n",
        "    onlyfiles = [ f for f in listdir(input_folder) if isfile(join(input_folder, f))]\n",
        "    for f in onlyfiles:\n",
        "        file_path = input_folder + \"/\"+ f\n",
        "        l.append(file_path)\n",
        "\n",
        "    return l"
      ]
    },
    {
      "cell_type": "code",
      "execution_count": null,
      "metadata": {
        "id": "HdW69RAmiU1V"
      },
      "outputs": [],
      "source": [
        "def folders(input_folder):\n",
        "    onlyfolders = [ f for f in listdir(input_folder) if isdir(join(input_folder, f))]\n",
        "    return onlyfolders"
      ]
    },
    {
      "cell_type": "code",
      "execution_count": null,
      "metadata": {
        "id": "9xt8Nr2CiWdW"
      },
      "outputs": [],
      "source": [
        "def get_image_feature(img_path):\n",
        "    img = image.load_img(img_path, target_size=(224, 224))\n",
        "    img_data = image.img_to_array(img)\n",
        "    img_data = np.expand_dims(img_data, axis=0)\n",
        "    img_data = preprocess_input(img_data)\n",
        "    vgg16_feature = img_feature_extraction.predict(img_data).flatten()\n",
        "    return vgg16_feature"
      ]
    },
    {
      "cell_type": "code",
      "execution_count": null,
      "metadata": {
        "id": "68v61msdiYmo"
      },
      "outputs": [],
      "source": [
        "train_classes = folders(train_folder)\n",
        "class_dict = {}\n",
        "n = 0\n",
        "for c in train_classes:\n",
        "    class_dict[c] = n\n",
        "    n = n + 1"
      ]
    },
    {
      "cell_type": "code",
      "execution_count": null,
      "metadata": {
        "id": "Ngm2OHNriaFl"
      },
      "outputs": [],
      "source": [
        "def get_dataset(train_path):\n",
        "    train_classes = folders(train_path)\n",
        "    dataset = {}\n",
        "    for c in train_classes:\n",
        "        c_path = train_path + \"/\"+ c\n",
        "        files = files_in_folder(c_path)\n",
        "        for f in files:\n",
        "            dataset[f] = class_dict[c]\n",
        "    return dataset"
      ]
    },
    {
      "cell_type": "code",
      "execution_count": null,
      "metadata": {
        "id": "n6kRxqrqibt-"
      },
      "outputs": [],
      "source": [
        "def extract_data(path):\n",
        "    X_list = []\n",
        "    y_list = []\n",
        "    dataset = get_dataset(path)\n",
        "    keys =  list(dataset.keys())\n",
        "    random.seed(10)\n",
        "    random.shuffle(keys)\n",
        "    input_size = len(keys)\n",
        "    ind = 0\n",
        "    for img_path in tqdm(keys):\n",
        "        y = dataset[img_path]\n",
        "        image_feature= get_image_feature(img_path)\n",
        "        X_list.append(image_feature)\n",
        "        y_list.append(y)\n",
        "        ind = ind + 1\n",
        "    return np.array(X_list), np.array(y_list)\n",
        ""
      ]
    },
    {
      "cell_type": "code",
      "execution_count": null,
      "metadata": {
        "id": "sDckJvlVi-ZE",
        "colab": {
          "base_uri": "https://localhost:8080/",
          "height": 329
        },
        "outputId": "a7981284-2f5b-46c4-c1ce-2479ec726c41"
      },
      "outputs": [
        {
          "output_type": "stream",
          "name": "stderr",
          "text": [
            "  0%|          | 0/1401 [00:00<?, ?it/s]\n"
          ]
        },
        {
          "output_type": "error",
          "ename": "AttributeError",
          "evalue": "ignored",
          "traceback": [
            "\u001b[0;31m---------------------------------------------------------------------------\u001b[0m",
            "\u001b[0;31mAttributeError\u001b[0m                            Traceback (most recent call last)",
            "\u001b[0;32m<ipython-input-14-dbee74dfd917>\u001b[0m in \u001b[0;36m<module>\u001b[0;34m\u001b[0m\n\u001b[0;32m----> 1\u001b[0;31m \u001b[0mX_train\u001b[0m\u001b[0;34m,\u001b[0m \u001b[0my_train\u001b[0m \u001b[0;34m=\u001b[0m \u001b[0mextract_data\u001b[0m\u001b[0;34m(\u001b[0m\u001b[0mtrain_folder\u001b[0m\u001b[0;34m)\u001b[0m\u001b[0;34m\u001b[0m\u001b[0;34m\u001b[0m\u001b[0m\n\u001b[0m",
            "\u001b[0;32m<ipython-input-13-ff41942c92a4>\u001b[0m in \u001b[0;36mextract_data\u001b[0;34m(path)\u001b[0m\n\u001b[1;32m     10\u001b[0m     \u001b[0;32mfor\u001b[0m \u001b[0mimg_path\u001b[0m \u001b[0;32min\u001b[0m \u001b[0mtqdm\u001b[0m\u001b[0;34m(\u001b[0m\u001b[0mkeys\u001b[0m\u001b[0;34m)\u001b[0m\u001b[0;34m:\u001b[0m\u001b[0;34m\u001b[0m\u001b[0;34m\u001b[0m\u001b[0m\n\u001b[1;32m     11\u001b[0m         \u001b[0my\u001b[0m \u001b[0;34m=\u001b[0m \u001b[0mdataset\u001b[0m\u001b[0;34m[\u001b[0m\u001b[0mimg_path\u001b[0m\u001b[0;34m]\u001b[0m\u001b[0;34m\u001b[0m\u001b[0;34m\u001b[0m\u001b[0m\n\u001b[0;32m---> 12\u001b[0;31m         \u001b[0mimage_feature\u001b[0m\u001b[0;34m=\u001b[0m \u001b[0mget_image_feature\u001b[0m\u001b[0;34m(\u001b[0m\u001b[0mimg_path\u001b[0m\u001b[0;34m)\u001b[0m\u001b[0;34m\u001b[0m\u001b[0;34m\u001b[0m\u001b[0m\n\u001b[0m\u001b[1;32m     13\u001b[0m         \u001b[0mX_list\u001b[0m\u001b[0;34m.\u001b[0m\u001b[0mappend\u001b[0m\u001b[0;34m(\u001b[0m\u001b[0mimage_feature\u001b[0m\u001b[0;34m)\u001b[0m\u001b[0;34m\u001b[0m\u001b[0;34m\u001b[0m\u001b[0m\n\u001b[1;32m     14\u001b[0m         \u001b[0my_list\u001b[0m\u001b[0;34m.\u001b[0m\u001b[0mappend\u001b[0m\u001b[0;34m(\u001b[0m\u001b[0my\u001b[0m\u001b[0;34m)\u001b[0m\u001b[0;34m\u001b[0m\u001b[0;34m\u001b[0m\u001b[0m\n",
            "\u001b[0;32m<ipython-input-10-d8483e3c146a>\u001b[0m in \u001b[0;36mget_image_feature\u001b[0;34m(img_path)\u001b[0m\n\u001b[1;32m      1\u001b[0m \u001b[0;32mdef\u001b[0m \u001b[0mget_image_feature\u001b[0m\u001b[0;34m(\u001b[0m\u001b[0mimg_path\u001b[0m\u001b[0;34m)\u001b[0m\u001b[0;34m:\u001b[0m\u001b[0;34m\u001b[0m\u001b[0;34m\u001b[0m\u001b[0m\n\u001b[0;32m----> 2\u001b[0;31m     \u001b[0mimg\u001b[0m \u001b[0;34m=\u001b[0m \u001b[0mimage\u001b[0m\u001b[0;34m.\u001b[0m\u001b[0mload_img\u001b[0m\u001b[0;34m(\u001b[0m\u001b[0mimg_path\u001b[0m\u001b[0;34m,\u001b[0m \u001b[0mtarget_size\u001b[0m\u001b[0;34m=\u001b[0m\u001b[0;34m(\u001b[0m\u001b[0;36m224\u001b[0m\u001b[0;34m,\u001b[0m \u001b[0;36m224\u001b[0m\u001b[0;34m)\u001b[0m\u001b[0;34m)\u001b[0m\u001b[0;34m\u001b[0m\u001b[0;34m\u001b[0m\u001b[0m\n\u001b[0m\u001b[1;32m      3\u001b[0m     \u001b[0mimg_data\u001b[0m \u001b[0;34m=\u001b[0m \u001b[0mimage\u001b[0m\u001b[0;34m.\u001b[0m\u001b[0mimg_to_array\u001b[0m\u001b[0;34m(\u001b[0m\u001b[0mimg\u001b[0m\u001b[0;34m)\u001b[0m\u001b[0;34m\u001b[0m\u001b[0;34m\u001b[0m\u001b[0m\n\u001b[1;32m      4\u001b[0m     \u001b[0mimg_data\u001b[0m \u001b[0;34m=\u001b[0m \u001b[0mnp\u001b[0m\u001b[0;34m.\u001b[0m\u001b[0mexpand_dims\u001b[0m\u001b[0;34m(\u001b[0m\u001b[0mimg_data\u001b[0m\u001b[0;34m,\u001b[0m \u001b[0maxis\u001b[0m\u001b[0;34m=\u001b[0m\u001b[0;36m0\u001b[0m\u001b[0;34m)\u001b[0m\u001b[0;34m\u001b[0m\u001b[0;34m\u001b[0m\u001b[0m\n\u001b[1;32m      5\u001b[0m     \u001b[0mimg_data\u001b[0m \u001b[0;34m=\u001b[0m \u001b[0mpreprocess_input\u001b[0m\u001b[0;34m(\u001b[0m\u001b[0mimg_data\u001b[0m\u001b[0;34m)\u001b[0m\u001b[0;34m\u001b[0m\u001b[0;34m\u001b[0m\u001b[0m\n",
            "\u001b[0;31mAttributeError\u001b[0m: module 'keras.preprocessing.image' has no attribute 'load_img'"
          ]
        }
      ],
      "source": [
        "X_train, y_train = extract_data(train_folder)"
      ]
    },
    {
      "cell_type": "code",
      "execution_count": null,
      "metadata": {
        "id": "65J2gcDQjYZK"
      },
      "outputs": [],
      "source": [
        "X_test, y_test = extract_data(test_folder)"
      ]
    },
    {
      "cell_type": "code",
      "execution_count": null,
      "metadata": {
        "id": "JfG3fdXokGwi"
      },
      "outputs": [],
      "source": [
        "with h5py.File(x_train_path,'w') as f:\n",
        "    group = f.create_group('dataset_1')\n",
        "    group.create_dataset(name='matrix', data=X_train , chunks=True, compression='gzip')"
      ]
    },
    {
      "cell_type": "code",
      "execution_count": null,
      "metadata": {
        "id": "7f58N0AbkPvJ"
      },
      "outputs": [],
      "source": [
        "with h5py.File(y_train_path,'w') as f:\n",
        "    group = f.create_group('dataset_1')\n",
        "    group.create_dataset(name='matrix', data=y_train , chunks=True, compression='gzip')"
      ]
    },
    {
      "cell_type": "code",
      "execution_count": null,
      "metadata": {
        "id": "_t6vyQf2kVIY"
      },
      "outputs": [],
      "source": [
        "with h5py.File(x_test_path,'w') as f:\n",
        "    group = f.create_group('dataset_1')\n",
        "    group.create_dataset(name='matrix', data=X_test , chunks=True, compression='gzip')"
      ]
    },
    {
      "cell_type": "code",
      "execution_count": null,
      "metadata": {
        "id": "F_Esu2fzkRPb"
      },
      "outputs": [],
      "source": [
        "with h5py.File(y_test_path,'w') as f:\n",
        "    group = f.create_group('dataset_1')\n",
        "    group.create_dataset(name='matrix', data=y_test , chunks=True, compression='gzip')"
      ]
    },
    {
      "cell_type": "code",
      "execution_count": null,
      "metadata": {
        "id": "cazCHq3TkZfS"
      },
      "outputs": [],
      "source": [
        "#if already h5 preprocessing start here\n",
        "def readData(path):\n",
        "    hf = h5py.File(path, 'r')\n",
        "    data = np.array(hf['dataset_1'].get('matrix'))\n",
        "    return data\n",
        "\n",
        "def readAllData(x_path,y_path):\n",
        "\n",
        "    X = readData(x_path)\n",
        "    y_class = readData(y_path)\n",
        "    y = to_categorical(y_class)\n",
        "\n",
        "\n",
        "    return X,y,y_class"
      ]
    },
    {
      "cell_type": "code",
      "execution_count": null,
      "metadata": {
        "id": "EP3HN1OCkeIi"
      },
      "outputs": [],
      "source": [
        "X_train, y_train,y_train_class =  readAllData(x_train_path, y_train_path)\n",
        "X_test, y_test,y_test_class =  readAllData(x_test_path, y_test_path)\n",
        "numclasses = y_train.shape[1]"
      ]
    },
    {
      "cell_type": "code",
      "execution_count": null,
      "metadata": {
        "id": "9eOTcdRmmIME"
      },
      "outputs": [],
      "source": [
        "#overfit เมื่อไม่มี regularization\n",
        "from keras.regularizers import l1\n",
        "from keras.layers import Dropout\n",
        "from tensorflow.keras import optimizers\n",
        "nb_train_samples = 2000\n",
        "nb_validation_samples = 800\n",
        "epochs = 20\n",
        "batch_size = 16\n",
        "sgd = SGD(lr=1e-4, momentum=0.9)\n",
        "image_size = X_train.shape[1]\n",
        "\n",
        "model = Sequential()\n",
        "model.add(Dense(256, input_dim=image_size, activation='relu'))\n",
        "model.add(Dense(256, activation='relu'))\n",
        "model.add(Dense(numclasses, activation='softmax', kernel_initializer=keras.initializers.glorot_normal(seed=None)))\n",
        "model.compile(optimizer=sgd,\n",
        "              loss='categorical_crossentropy',\n",
        "              metrics=['acc'])\n"
      ]
    },
    {
      "cell_type": "code",
      "execution_count": null,
      "metadata": {
        "id": "bpLrBHrRmP_n"
      },
      "outputs": [],
      "source": [
        "history =model.fit(X_train, y_train,  epochs=epochs, validation_data=(X_test, y_test ))"
      ]
    },
    {
      "cell_type": "code",
      "source": [
        "def save_model(model,model_save_file,weight_save_file):\n",
        "  # serialize model to JSON\n",
        "  model_json = model.to_json()\n",
        "  with open(model_save_file, \"w\") as json_file:\n",
        "      json_file.write(model_json)\n",
        "  # serialize weights to HDF5\n",
        "  model.save_weights(weight_save_file)\n",
        "  print(\"Saved model to disk\")"
      ],
      "metadata": {
        "id": "O1MRxQrc_3qu"
      },
      "execution_count": null,
      "outputs": []
    },
    {
      "cell_type": "code",
      "execution_count": null,
      "metadata": {
        "id": "to91Mv-TmcJg"
      },
      "outputs": [],
      "source": [
        "\n",
        "# serialize model to JSON\n",
        "model_json = model.to_json()\n",
        "with open(model_save_file, \"w\") as json_file:\n",
        "    json_file.write(model_json)\n",
        "# serialize weights to HDF5\n",
        "model.save_weights(weight_save_file)\n",
        "print(\"Saved model to disk\")\n",
        "\n",
        "# later...\n",
        "\n",
        "# load json and create model\n",
        "json_file = open(model_save_file, 'r')\n",
        "loaded_model_json = json_file.read()\n",
        "json_file.close()\n",
        "loaded_model = model_from_json(loaded_model_json)\n",
        "# load weights into new model\n",
        "loaded_model.load_weights(weight_save_file)\n",
        "print(\"Loaded model from disk\")\n",
        "\n",
        "loaded_model.compile(optimizer=optimizers.RMSprop(lr=2e-4),\n",
        "              loss='categorical_crossentropy',\n",
        "              metrics=['acc'])"
      ]
    },
    {
      "cell_type": "code",
      "execution_count": null,
      "metadata": {
        "id": "xBVCm1DjmjOp"
      },
      "outputs": [],
      "source": [
        "json_file = open(model_save_file, 'r')\n",
        "loaded_model_json = json_file.read()\n",
        "json_file.close()\n",
        "loaded_model = model_from_json(loaded_model_json)\n",
        "# load weights into new model\n",
        "loaded_model.load_weights(weight_save_file)\n",
        "print(\"Loaded model from disk\")\n",
        "\n",
        "loaded_model.compile(optimizer=optimizers.RMSprop(lr=2e-4),\n",
        "              loss='categorical_crossentropy',\n",
        "              metrics=['acc'])"
      ]
    },
    {
      "cell_type": "code",
      "execution_count": null,
      "metadata": {
        "id": "c7QBj9oZm9Rb"
      },
      "outputs": [],
      "source": [
        "score = loaded_model.evaluate(X_test, y_test, verbose=0)\n",
        "print(\"%s: %.2f%%\" % (loaded_model.metrics_names[1], score[1]*100))"
      ]
    },
    {
      "cell_type": "code",
      "execution_count": null,
      "metadata": {
        "id": "BwF03D2ZnB-h"
      },
      "outputs": [],
      "source": [
        "predict_x=loaded_model.predict(X_test)\n",
        "y_pred=np.argmax(predict_x,axis=1)"
      ]
    },
    {
      "cell_type": "code",
      "execution_count": null,
      "metadata": {
        "id": "w0vItI73nE_d"
      },
      "outputs": [],
      "source": [
        "\n",
        "print('convolution deep accuracy = ',accuracy_score(y_test_class, y_pred))\n",
        "print('convolution deep fscore = ',f1_score(y_test_class, y_pred, average='macro'))\n"
      ]
    },
    {
      "cell_type": "code",
      "execution_count": null,
      "metadata": {
        "id": "DgiiyauonWD-"
      },
      "outputs": [],
      "source": [
        "from sklearn.metrics import classification_report, confusion_matrix\n",
        "print(confusion_matrix(y_test_class, y_pred))"
      ]
    },
    {
      "cell_type": "code",
      "source": [
        "def getCustomModel(train_model):\n",
        "\n",
        "    vgg_model = VGG16(weights='imagenet',\n",
        "                               include_top=False,\n",
        "                               input_shape=(224, 224, 3))\n",
        "\n",
        "    # Creating dictionary that maps layer names to the layers\n",
        "    layer_dict = dict([(layer.name, layer) for layer in vgg_model.layers])\n",
        "\n",
        "    # Getting output tensor of the last VGG layer that we want to include\n",
        "    x = layer_dict['block5_pool'].output\n",
        "    x = Flatten()(x)\n",
        "    for layer in train_model.layers:\n",
        "        x = layer(x)\n",
        "\n",
        "    custom_model = Model(inputs=vgg_model.input, outputs=x)\n",
        "    return custom_model"
      ],
      "metadata": {
        "id": "88s_JPB93vHv"
      },
      "execution_count": null,
      "outputs": []
    },
    {
      "cell_type": "code",
      "execution_count": null,
      "metadata": {
        "id": "R9c_ljRCneib"
      },
      "outputs": [],
      "source": [
        "custom_model = getCustomModel(loaded_model)"
      ]
    },
    {
      "cell_type": "code",
      "source": [
        "save_model(custom_model,\"model.json\",\"model.h5\")"
      ],
      "metadata": {
        "id": "jy5FFvcw3trA"
      },
      "execution_count": null,
      "outputs": []
    },
    {
      "cell_type": "code",
      "source": [
        "for x, y in class_dict.items():\n",
        "  print(x, y)"
      ],
      "metadata": {
        "id": "8KB5t_KRU2G3"
      },
      "execution_count": null,
      "outputs": []
    },
    {
      "cell_type": "code",
      "execution_count": null,
      "metadata": {
        "id": "dco2Xzxjpo63"
      },
      "outputs": [],
      "source": [
        "from google.colab import files\n",
        "uploaded = files.upload()\n",
        "filename = next(iter(uploaded))\n",
        "img = image.load_img(filename , target_size=(224, 224))\n",
        "x = image.img_to_array(img)\n",
        "x = np.expand_dims(x, axis=0)\n",
        "x = preprocess_input(x)\n",
        "predict_x=custom_model.predict([x])\n",
        "y_pred=np.argmax(predict_x,axis=1)\n",
        "print('คุณ upload รูป' , train_classes[y_pred[0]])\n",
        "%matplotlib inline\n",
        "import matplotlib.pyplot as plt\n",
        "import matplotlib.image as mpimg\n",
        "img = mpimg.imread(filename)\n",
        "imgplot = plt.imshow(img)\n"
      ]
    },
    {
      "cell_type": "code",
      "execution_count": null,
      "metadata": {
        "id": "PyU66rvA2c0G"
      },
      "outputs": [],
      "source": [
        "uploaded.keys()"
      ]
    },
    {
      "cell_type": "code",
      "execution_count": null,
      "metadata": {
        "id": "9lqemxeW0lzG"
      },
      "outputs": [],
      "source": [
        "print(img)"
      ]
    },
    {
      "cell_type": "code",
      "source": [
        "tf.__version__\n"
      ],
      "metadata": {
        "id": "GAz4-l06_3Kl"
      },
      "execution_count": null,
      "outputs": []
    },
    {
      "cell_type": "code",
      "source": [],
      "metadata": {
        "id": "EGa28UAYiDHb"
      },
      "execution_count": null,
      "outputs": []
    }
  ],
  "metadata": {
    "accelerator": "GPU",
    "colab": {
      "provenance": [],
      "include_colab_link": true
    },
    "kernelspec": {
      "display_name": "Python 3",
      "name": "python3"
    },
    "language_info": {
      "name": "python"
    },
    "gpuClass": "standard"
  },
  "nbformat": 4,
  "nbformat_minor": 0
}